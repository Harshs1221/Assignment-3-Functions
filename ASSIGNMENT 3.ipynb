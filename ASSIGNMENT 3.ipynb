{
 "cells": [
  {
   "cell_type": "code",
   "execution_count": null,
   "id": "3b012972-2da1-42e2-a07f-4ac0701191bd",
   "metadata": {},
   "outputs": [],
   "source": [
    "#Q1. What is the difference between a function and a method in Python?\n",
    "\n",
    "\"\"\"ANS1. In Python both function and method aew blocks of code designed to perform specific task,\n",
    "         but they have some key differences.\n",
    "         \n",
    "         1. Functions:\n",
    "                     - Defined using def keyword\n",
    "                     - Can be called independently, without being associated with any object.\n",
    "                     - Example:\n",
    "                                def greet(name):\n",
    "                                    return(\"welcome\", name)\n",
    "                                    \n",
    "         2. Methods:\n",
    "                     - Methods are the functions that are associated with an object.\n",
    "                     - Defined with in a class and can only be called on instance of that class.\n",
    "                     - The first parameter is usually self, which refers to the instance of class.\n",
    "                     - Example\n",
    "                             class Greet:\n",
    "                                 def __init__(self,name)\n",
    "                                     self.name = name\n",
    "                                 def hello(self):\n",
    "                                     return f\"hello, {self.name}\"\"\"\""
   ]
  },
  {
   "cell_type": "code",
   "execution_count": null,
   "id": "29133961-7785-4c36-8805-7f2c20ab7c7e",
   "metadata": {},
   "outputs": [],
   "source": [
    "#Q2. Explain the concept of function arguments and parameters in Python?\n",
    "\n",
    "\"\"\"ANS2. Parameters : These are the variables listed inside the parentheses in the function defination.\n",
    "                    - These are the placeholders which are waiting to be filled with actual values\n",
    "                      when you call the function.\n",
    "         \n",
    "         Arguments :  These are the actual values passed to the function when it is called.\n",
    "\n",
    "                     For example:\n",
    "                         def marks(a,b):\n",
    "                             return f\"Your marks in physics {a} and in chem {b}\"\n",
    "\n",
    "                    Here, a,b are the parameters(placeholders)\n",
    "\n",
    "                    Calling the function with arguments\n",
    "\n",
    "                    a = marks(20,50)\n",
    "                    print(a)\n",
    "\n",
    "                    Here a, b are the arguments or actual values while calling the function.\n",
    "                    \"\"\""
   ]
  },
  {
   "cell_type": "code",
   "execution_count": null,
   "id": "dfcc7c8d-6d03-49f6-8026-9086d6c602fa",
   "metadata": {},
   "outputs": [],
   "source": [
    "#Q3. What are the different ways to define and call a function in Python?\n",
    "\"\"\"\n",
    "ANS3. Regular Function: Regular functions are defined using (def) keyword after that function name,                                     (parameter)and : and then provide the body of the function. For example:\n",
    "\n",
    "                            def Function_name(parameters):\n",
    "                                \"\"\"DOCSTRING\"\"\"\n",
    "                                Statement\n",
    "                                return (expression)\n",
    "      lambda function:\n",
    "                        These are the small anonymous functions defined using the lambda keyword.\n",
    "                        They can have number of arguments but only one expression.\n",
    "                        SYNTAX:\n",
    "                                Lambda agrguments:expression\n",
    "                                Example: lambda x,y: x+y\n",
    "\n",
    "      Function with deafult arguments:\n",
    "                        Functions can have default value for parameters. If an argument is not \n",
    "                        provided, than default value is used.\n",
    "                        Example:\n",
    "                                def sum(b,a=2):      # here default value is a=2\n",
    "                                     return a+b\n",
    "\n",
    "                                a = sum(b=3)       # Here only one argument is provided, so it automatically\n",
    "                                print(a)             takes default value a = 2 \n",
    "                        output:  5\n",
    "     \n",
    "      Variable-length Arguments:\n",
    "                        Functions can accept numbers of arguments using *args for non-keyword\n",
    "                        arguments and **kwrags for keyword arguments\n",
    "\n",
    "                        Example:\n",
    "                                def add(*args):\n",
    "                                    a = 0\n",
    "                                    for i in args:\n",
    "                                        a = a + i\n",
    "                                    return a\n",
    "\n",
    "    Call the function :            add(2,3,4) \n",
    "            Output    :              9\n",
    "                        Here using * args we can put multiple arguments.\"\"\""
   ]
  },
  {
   "cell_type": "code",
   "execution_count": 166,
   "id": "c72d1e98-ce1f-46b9-b631-c2972d54c6bd",
   "metadata": {},
   "outputs": [],
   "source": [
    "#Q4.  What is the purpose of the `return` statement in a Python function?\n",
    "\"\"\"\n",
    "Ans4. The return statement in python is used to exit a function and send the value back to the caller.\n",
    "      - It can return the output without changing the type of output. \n",
    "      - It can be used to return any type of value, including numbers, strings, lists, dictionaries,\n",
    "        and even other functions.\n",
    " \"\"\"\n"
   ]
  },
  {
   "cell_type": "code",
   "execution_count": null,
   "id": "746e9843-8fb8-4788-9b82-07f21e5681e6",
   "metadata": {},
   "outputs": [],
   "source": [
    "#Q5. What are iterators in Python and how do they differ from iterables?\n",
    "\"\"\"\n",
    "Ans5. Iterables:\n",
    "            An iterable is like a collection of items that you can loop through like string, list, tuple etc\n",
    "            for example:\n",
    "                        a = 'pwskills'\n",
    "                Here, we can loop through the string using for loop.\n",
    "                        for i in a:\n",
    "                        print(a)\n",
    "                Here a = pwskills is an iterable because you can you go through each item in it.\n",
    "\n",
    "    Iterators:\n",
    "            An iterator is an object that helps you to iterate an iterable object one item at a time.\n",
    "            we can create an iterator from an iterable using the iter() function.\n",
    "                        a1 = iter(a)\n",
    "            Now, to get each item from the iterator ise next() function.\n",
    "\"\"\""
   ]
  },
  {
   "cell_type": "code",
   "execution_count": null,
   "id": "2a8dfc86-1701-40b1-86a6-f46afd99f950",
   "metadata": {},
   "outputs": [],
   "source": [
    "#Q6. Explain the concept of generators in Python and how they are defined,\n",
    "\"\"\"\n",
    "Ans6.  Generators are a simple way to create iterators using functions and the yield keyword. \n",
    "       They allow you to generate values one at a time, instead of storing them all in memory at once.\n",
    "     \n",
    "       Generators are used because thay are convenient and memory efficient way to create iterators.\n",
    "\n",
    "       How to defined generator:\n",
    "\n",
    "       These are defined like regular function but use yield keyword to return the values one\n",
    "       at a time.\n",
    "       Example:  def rev_count(n):\n",
    "                     while n >0:\n",
    "                       yield n\n",
    "                       n = n-1\n",
    "\n",
    "            After creating generator, we can use rev_count generator in for loop for reverse\n",
    "            counting for n number of time.\n",
    "\n",
    "    \"\"\""
   ]
  },
  {
   "cell_type": "code",
   "execution_count": null,
   "id": "5239efa2-a386-49cf-a93b-08f0a78c7fc0",
   "metadata": {},
   "outputs": [],
   "source": [
    "#Q7. What are the advantages of using generators over regular functions?\n",
    "\"\"\"\n",
    "Ans7. Memory efficiency:\n",
    "                    Generators produce item one at a time and only when you needed, which means\n",
    "                    they don't require storing the entire dataset in memory which make them suitable\n",
    "                    for large datasets and infinite sequences.\n",
    "    Simpler code:\n",
    "                    Generators can simplify code by replacing complex iterator classes with concise\n",
    "                    generator functions. This leads to more readable and maintainable code.\n",
    "    Infinite sequences:\n",
    "                    Generators can be used to create infinite sequnces, as they generate value when \n",
    "                    needed. This is not feasible with regular functions.\n",
    "    State retention:\n",
    "                    In generators, yield returns a value and pauses the function’s state, \n",
    "                    allowing it to resume from where it left off. \n",
    "    Performance:\n",
    "                    Generator evaluate and yield items when needed, which can lead to performance\n",
    "                    improvements.\n",
    "    \"\"\""
   ]
  },
  {
   "cell_type": "code",
   "execution_count": null,
   "id": "fce861d1-8279-4b27-a099-b1c68193aa5b",
   "metadata": {},
   "outputs": [],
   "source": [
    "#Q8. What is a lambda function in Python and when is it typically used.\n",
    "\"\"\"\n",
    "Ans8  These are the small anonymous functions defined using the lambda keyword.\n",
    "      - They can have number of arguments but only one expression.\n",
    "      - They are used for short, simple operations.\n",
    "        SYNTAX:\n",
    "                     Lambda agrguments:expression\n",
    "                     Example: a = lambda x,y: x+y\n",
    "                             print(a(4,5))  # output:  9\n",
    "\n",
    "\"\"\""
   ]
  },
  {
   "cell_type": "code",
   "execution_count": null,
   "id": "61c6dc8c-fc92-4966-89ef-00871a188307",
   "metadata": {},
   "outputs": [],
   "source": [
    "#Q9. Explain the purpose and usage of the `map()` function in Python.\n",
    "\"\"\"\n",
    "Ans 9. The primary purpose of map() function is to apply a function to each item in an iterable,\n",
    "       allowing you to perform operations on each element without using explicit loops.\n",
    "\n",
    "       Usage of map function:\n",
    "\n",
    "       1. You can use lambda function with map() for more concise code:\n",
    "           For example:\n",
    "                   a = [1,2,3,4,5]\n",
    "                   a1 = map(lambda x:x**2,a)\n",
    "                   print(list(a1))\n",
    "         \n",
    "            Output:  [1, 4, 9, 16, 25]\n",
    "\n",
    "        2. Multiple iterables:\n",
    "            You can pass multiple iterables to map(), and the function will be applied to corresponding\n",
    "            items from each iterable.\n",
    "\n",
    "                    a = [1,2,3,4,5]\n",
    "                    b = [2,3,4,5,6]\n",
    "                    a1 =map(lambda x,y:x+y,a,b)\n",
    "\n",
    "            Output : [3, 5, 7, 9, 11]\n",
    "\"\"\"\n",
    "       \n",
    "\n",
    "\n"
   ]
  },
  {
   "cell_type": "code",
   "execution_count": null,
   "id": "0ead5124-142f-4e26-96f1-49ea7d98f367",
   "metadata": {},
   "outputs": [],
   "source": [
    "#Q10.  What is the difference between `map()`, `reduce()`, and `filter()` functions in Python?\n",
    "\"\"\"\n",
    "Ans 10.\n",
    "      1.  map():\n",
    "            Purpose:\n",
    "                    Applies a given function to all items in an iterable and returns a map object\n",
    "                    (iterator) containing the results.\n",
    "            Difference:\n",
    "                    Transforming each item in the iterable\n",
    "            Syntax:\n",
    "                    map(function,iterable)\n",
    "            Example: \n",
    "                     a = [1,2,3,4,5]\n",
    "                     a1 = map(lambda x:x**2,a)\n",
    "                     print(list(a1))\n",
    "         \n",
    "            Output:  [1, 4, 9, 16, 25]\n",
    "\n",
    "      2.  reduce()\n",
    "            Purpose:\n",
    "                    Applies a given function cumulatively to the items of an itrable, from left to\n",
    "                    right, to reduce the iterable into a single value.\n",
    "            Difference:\n",
    "                    Aggregates the iterable into a single value.\n",
    "            Syntax:\n",
    "                    reduce(function, iterable)\n",
    "            Example:\n",
    "                    a1 =[1,2,3,4,5,6,10,1]\n",
    "\n",
    "                    from functools import reduce\n",
    "                    a2 = reduce(lambda x,y : x+y,a1)\n",
    "\n",
    "                    print(a2)  output: 32\n",
    "\n",
    "      3. Filter()\n",
    "          Purpose:\n",
    "                  Applies a given function to all iteams in an iterable and returns a filter object\n",
    "                  contianing only the items for which the functions returns TRUE.\n",
    "\n",
    "          Difference:\n",
    "                  Filter items from the iterable based on a condition.\n",
    "\n",
    "         Syntax:\n",
    "                  filter(function,iterable)\n",
    "\n",
    "         Example:\n",
    "                  a1 =[1,2,3,4,5,6,10,1]\n",
    "\n",
    "                  a2 =filter(lambda x : x %2==0 ,a1)\n",
    "                  print(list(a2))\n",
    "        \n",
    "        Output:      [2, 4, 6, 10]\n",
    "                            \n",
    "            \n",
    "\"\"\""
   ]
  },
  {
   "cell_type": "code",
   "execution_count": 12,
   "id": "e4279be5-3ec7-41d8-8fd1-c1f17586e375",
   "metadata": {},
   "outputs": [
    {
     "data": {
      "text/html": [
       "<img src=\"C:\\Users\\harsh\\OneDrive\\Desktop\\20250115_020451.jpg\" width=\"400\" height=\"400\"/>"
      ],
      "text/plain": [
       "<IPython.core.display.Image object>"
      ]
     },
     "execution_count": 12,
     "metadata": {},
     "output_type": "execute_result"
    }
   ],
   "source": [
    "#Q11.Using pen & Paper write the internal mechanism for sum operation using  reduce function on this given list:[47,11,42,13];\n",
    "#Ans 11.\n",
    "from IPython.display import Image\n",
    "Image(url =r\"C:\\Users\\harsh\\OneDrive\\Desktop\\20250115_020451.jpg\", width = 400, height = 400)\n"
   ]
  },
  {
   "cell_type": "code",
   "execution_count": null,
   "id": "b5211ca5-84cd-4df8-9c4b-b798ea9b92cb",
   "metadata": {},
   "outputs": [],
   "source": []
  },
  {
   "cell_type": "code",
   "execution_count": null,
   "id": "83e96b39-1efb-4a9a-8965-f14ef2508771",
   "metadata": {},
   "outputs": [],
   "source": [
    "#PRACICAL QUESTION"
   ]
  },
  {
   "cell_type": "markdown",
   "id": "10ef0a3f-0d99-45c6-bdc6-29753f4028aa",
   "metadata": {},
   "source": [
    "Q1 Write a Python function that takes a list of numbers as input and returns the sum of all even numbers in \n",
    "the list"
   ]
  },
  {
   "cell_type": "code",
   "execution_count": 20,
   "id": "e23eca7b-41ba-4e72-929f-008eec34fe00",
   "metadata": {},
   "outputs": [],
   "source": [
    "def sum_even(lis):\n",
    "    \"\"\" Input : input list of numbers\n",
    "        output : Sum of even numbers present in list\"\"\"\n",
    "    a1 =0\n",
    "    for i in lis:\n",
    "        if (i % 2==0):\n",
    "            a1 = a1+i\n",
    "    return(a1)"
   ]
  },
  {
   "cell_type": "code",
   "execution_count": 27,
   "id": "eccfb75b-e6c0-4d47-9594-e3d9b66a9621",
   "metadata": {},
   "outputs": [
    {
     "data": {
      "text/plain": [
       "30"
      ]
     },
     "execution_count": 27,
     "metadata": {},
     "output_type": "execute_result"
    }
   ],
   "source": [
    "b1 = [1,2,3,4,5,6,7,8,9,10]\n",
    "sum_even(b1)"
   ]
  },
  {
   "cell_type": "markdown",
   "id": "6c9689ae-cd44-45bf-8681-98f384c91457",
   "metadata": {},
   "source": [
    "Q2. Create a Python function that accepts a string and returns the reverse of that string\n"
   ]
  },
  {
   "cell_type": "code",
   "execution_count": 125,
   "id": "18a3a761-d01e-4a5c-8146-b18c907a05a5",
   "metadata": {},
   "outputs": [],
   "source": [
    "def rev_str(a):\n",
    "    \"\"\"Input : accept value as a string\n",
    "        Output : return reverse of string\n",
    "    \"\"\"\n",
    "    a1 = \"\"\n",
    "    length = len(a)\n",
    "    \n",
    "    for i in range(length-1,-1,-1):\n",
    "        a1 = a1 + a[i]\n",
    "    return(a1)\n",
    "\n",
    "    "
   ]
  },
  {
   "cell_type": "code",
   "execution_count": 127,
   "id": "3059caef-0ca1-40d2-8b1f-d209769d4371",
   "metadata": {},
   "outputs": [
    {
     "data": {
      "text/plain": [
       "'hgnisjaknap'"
      ]
     },
     "execution_count": 127,
     "metadata": {},
     "output_type": "execute_result"
    }
   ],
   "source": [
    "rev_str(\"pankajsingh\")"
   ]
  },
  {
   "cell_type": "markdown",
   "id": "db559b0c-2cbf-48ee-a303-b1f5da711831",
   "metadata": {},
   "source": [
    "Q3. Implement a Python function that takes a list of integers and returns a new list containing the squares of \n",
    "each number."
   ]
  },
  {
   "cell_type": "code",
   "execution_count": 143,
   "id": "da002103-32d0-41f3-ae97-879f4f7e5c57",
   "metadata": {},
   "outputs": [],
   "source": [
    "def sq_number(a):\n",
    "    \"\"\"Input: take list of integer\n",
    "        Output: New list containing squares of each number \n",
    "    \"\"\"\n",
    "    a1 = []\n",
    "    for i in a:\n",
    "        a1.append(i**2)\n",
    "    return(a1)"
   ]
  },
  {
   "cell_type": "code",
   "execution_count": 145,
   "id": "078a2045-30d2-45ed-bed0-2183fd2e6b0c",
   "metadata": {},
   "outputs": [
    {
     "data": {
      "text/plain": [
       "[1, 4, 529, 2916, 25, 256, 441, 400]"
      ]
     },
     "execution_count": 145,
     "metadata": {},
     "output_type": "execute_result"
    }
   ],
   "source": [
    "sq_number(a)"
   ]
  },
  {
   "cell_type": "markdown",
   "id": "7d7290f8-26ad-4b50-b639-2f0abbbbd4e2",
   "metadata": {},
   "source": [
    "Q4.Write a Python function that checks if a given number is prime or not from 1 to 200."
   ]
  },
  {
   "cell_type": "code",
   "execution_count": 508,
   "id": "d47cc8ec-6041-43d2-9280-2bffebe3bdea",
   "metadata": {},
   "outputs": [],
   "source": [
    "def Prime_or_not(n):\n",
    "    \"\"\"input : takes integer number\n",
    "        output: Shows the number is prime or not\"\"\"\n",
    "    count = 0\n",
    "    \n",
    "    for i in range (1,n+1):\n",
    "        if n % i ==0:\n",
    "            count =count +1\n",
    "    if count == 2:\n",
    "        return(\"prime number\")\n",
    "    else:\n",
    "        return(\"not a prime number\")\n",
    "        "
   ]
  },
  {
   "cell_type": "code",
   "execution_count": 510,
   "id": "e6820f86-9882-4712-bb05-4a7da5c0f1fc",
   "metadata": {},
   "outputs": [
    {
     "name": "stdout",
     "output_type": "stream",
     "text": [
      "1 not a prime number\n",
      "2 prime number\n",
      "3 prime number\n",
      "4 not a prime number\n",
      "5 prime number\n",
      "6 not a prime number\n",
      "7 prime number\n",
      "8 not a prime number\n",
      "9 not a prime number\n",
      "10 not a prime number\n",
      "11 prime number\n",
      "12 not a prime number\n",
      "13 prime number\n",
      "14 not a prime number\n",
      "15 not a prime number\n",
      "16 not a prime number\n",
      "17 prime number\n",
      "18 not a prime number\n",
      "19 prime number\n",
      "20 not a prime number\n",
      "21 not a prime number\n",
      "22 not a prime number\n",
      "23 prime number\n",
      "24 not a prime number\n",
      "25 not a prime number\n",
      "26 not a prime number\n",
      "27 not a prime number\n",
      "28 not a prime number\n",
      "29 prime number\n",
      "30 not a prime number\n",
      "31 prime number\n",
      "32 not a prime number\n",
      "33 not a prime number\n",
      "34 not a prime number\n",
      "35 not a prime number\n",
      "36 not a prime number\n",
      "37 prime number\n",
      "38 not a prime number\n",
      "39 not a prime number\n",
      "40 not a prime number\n",
      "41 prime number\n",
      "42 not a prime number\n",
      "43 prime number\n",
      "44 not a prime number\n",
      "45 not a prime number\n",
      "46 not a prime number\n",
      "47 prime number\n",
      "48 not a prime number\n",
      "49 not a prime number\n",
      "50 not a prime number\n",
      "51 not a prime number\n",
      "52 not a prime number\n",
      "53 prime number\n",
      "54 not a prime number\n",
      "55 not a prime number\n",
      "56 not a prime number\n",
      "57 not a prime number\n",
      "58 not a prime number\n",
      "59 prime number\n",
      "60 not a prime number\n",
      "61 prime number\n",
      "62 not a prime number\n",
      "63 not a prime number\n",
      "64 not a prime number\n",
      "65 not a prime number\n",
      "66 not a prime number\n",
      "67 prime number\n",
      "68 not a prime number\n",
      "69 not a prime number\n",
      "70 not a prime number\n",
      "71 prime number\n",
      "72 not a prime number\n",
      "73 prime number\n",
      "74 not a prime number\n",
      "75 not a prime number\n",
      "76 not a prime number\n",
      "77 not a prime number\n",
      "78 not a prime number\n",
      "79 prime number\n",
      "80 not a prime number\n",
      "81 not a prime number\n",
      "82 not a prime number\n",
      "83 prime number\n",
      "84 not a prime number\n",
      "85 not a prime number\n",
      "86 not a prime number\n",
      "87 not a prime number\n",
      "88 not a prime number\n",
      "89 prime number\n",
      "90 not a prime number\n",
      "91 not a prime number\n",
      "92 not a prime number\n",
      "93 not a prime number\n",
      "94 not a prime number\n",
      "95 not a prime number\n",
      "96 not a prime number\n",
      "97 prime number\n",
      "98 not a prime number\n",
      "99 not a prime number\n",
      "100 not a prime number\n",
      "101 prime number\n",
      "102 not a prime number\n",
      "103 prime number\n",
      "104 not a prime number\n",
      "105 not a prime number\n",
      "106 not a prime number\n",
      "107 prime number\n",
      "108 not a prime number\n",
      "109 prime number\n",
      "110 not a prime number\n",
      "111 not a prime number\n",
      "112 not a prime number\n",
      "113 prime number\n",
      "114 not a prime number\n",
      "115 not a prime number\n",
      "116 not a prime number\n",
      "117 not a prime number\n",
      "118 not a prime number\n",
      "119 not a prime number\n",
      "120 not a prime number\n",
      "121 not a prime number\n",
      "122 not a prime number\n",
      "123 not a prime number\n",
      "124 not a prime number\n",
      "125 not a prime number\n",
      "126 not a prime number\n",
      "127 prime number\n",
      "128 not a prime number\n",
      "129 not a prime number\n",
      "130 not a prime number\n",
      "131 prime number\n",
      "132 not a prime number\n",
      "133 not a prime number\n",
      "134 not a prime number\n",
      "135 not a prime number\n",
      "136 not a prime number\n",
      "137 prime number\n",
      "138 not a prime number\n",
      "139 prime number\n",
      "140 not a prime number\n",
      "141 not a prime number\n",
      "142 not a prime number\n",
      "143 not a prime number\n",
      "144 not a prime number\n",
      "145 not a prime number\n",
      "146 not a prime number\n",
      "147 not a prime number\n",
      "148 not a prime number\n",
      "149 prime number\n",
      "150 not a prime number\n",
      "151 prime number\n",
      "152 not a prime number\n",
      "153 not a prime number\n",
      "154 not a prime number\n",
      "155 not a prime number\n",
      "156 not a prime number\n",
      "157 prime number\n",
      "158 not a prime number\n",
      "159 not a prime number\n",
      "160 not a prime number\n",
      "161 not a prime number\n",
      "162 not a prime number\n",
      "163 prime number\n",
      "164 not a prime number\n",
      "165 not a prime number\n",
      "166 not a prime number\n",
      "167 prime number\n",
      "168 not a prime number\n",
      "169 not a prime number\n",
      "170 not a prime number\n",
      "171 not a prime number\n",
      "172 not a prime number\n",
      "173 prime number\n",
      "174 not a prime number\n",
      "175 not a prime number\n",
      "176 not a prime number\n",
      "177 not a prime number\n",
      "178 not a prime number\n",
      "179 prime number\n",
      "180 not a prime number\n",
      "181 prime number\n",
      "182 not a prime number\n",
      "183 not a prime number\n",
      "184 not a prime number\n",
      "185 not a prime number\n",
      "186 not a prime number\n",
      "187 not a prime number\n",
      "188 not a prime number\n",
      "189 not a prime number\n",
      "190 not a prime number\n",
      "191 prime number\n",
      "192 not a prime number\n",
      "193 prime number\n",
      "194 not a prime number\n",
      "195 not a prime number\n",
      "196 not a prime number\n",
      "197 prime number\n",
      "198 not a prime number\n",
      "199 prime number\n",
      "200 not a prime number\n"
     ]
    }
   ],
   "source": [
    "for i in range(1,201):\n",
    "    print(i,Prime_or_not(i))\n",
    "    "
   ]
  },
  {
   "cell_type": "markdown",
   "id": "9c2303f5-1f4c-4916-9c52-913ff6a26977",
   "metadata": {},
   "source": [
    "Q5. Create an iterator class in Python that generates the Fibonacci sequence up to a specified number of \n",
    "terms."
   ]
  },
  {
   "cell_type": "code",
   "execution_count": 1,
   "id": "12553a6a-c17b-43db-b918-1c846f93bd5d",
   "metadata": {},
   "outputs": [],
   "source": [
    "class FibonacciIterator:\n",
    "    def __init__(self,n): \n",
    "        self.n = n\n",
    "        self.current = 0\n",
    "        self.next = 1\n",
    "        self.count =0\n",
    "        \n",
    "\n",
    "    def __iter__(self):\n",
    "        return self\n",
    "\n",
    "    def __next__(self):\n",
    "        if self.count >= self.n:\n",
    "            raise StopIteration\n",
    "        if self.count == 0:\n",
    "            self.count = self.count +1\n",
    "            return self.current\n",
    "             \n",
    "        elif self.count == 1:\n",
    "            self.count = self.count + 1\n",
    "            return self.next\n",
    "        else:\n",
    "            self.current, self.next = self.next, self.current + self.next\n",
    "            self.count = self.count+ 1\n",
    "            return self.current"
   ]
  },
  {
   "cell_type": "markdown",
   "id": "272ae211-23df-4c46-8edf-78c10e381b14",
   "metadata": {},
   "source": [
    "Q6. Write a generator function in Python that yields the powers of 2 up to a given exponent."
   ]
  },
  {
   "cell_type": "code",
   "execution_count": 7,
   "id": "ad7b9d75-28cf-4bf1-823f-2302f8d77da2",
   "metadata": {},
   "outputs": [],
   "source": [
    "def power_2(n):\n",
    "    \"\"\"input: n(int) (Starts from 0 to n)\n",
    "        output: generate power 2 upto given exponient\"\"\"\n",
    "    for i in range(n+1):\n",
    "        yield(2**i)"
   ]
  },
  {
   "cell_type": "code",
   "execution_count": 9,
   "id": "c3ad1f6e-30b5-4c11-ae32-10a6b7d30228",
   "metadata": {},
   "outputs": [
    {
     "data": {
      "text/plain": [
       "[1, 2, 4, 8, 16, 32, 64]"
      ]
     },
     "execution_count": 9,
     "metadata": {},
     "output_type": "execute_result"
    }
   ],
   "source": [
    "list(power_2(6))\n"
   ]
  },
  {
   "cell_type": "code",
   "execution_count": 1,
   "id": "e4169103-5803-452b-a2a7-fe8750d7f9a1",
   "metadata": {},
   "outputs": [],
   "source": [
    "# Q7.  Implement a generator function that reads a file line by line and yields each line as a string.\n",
    "\n",
    "#Ans7 \n",
    "def line_by_line(file_path):\n",
    "    with open(file_path,\"r\") as f:\n",
    "        for line in f:\n",
    "            yield line\n",
    "            "
   ]
  },
  {
   "cell_type": "code",
   "execution_count": 3,
   "id": "0b173bdb-2364-416d-9cb2-e3cf089fd8d6",
   "metadata": {},
   "outputs": [],
   "source": [
    "a1 = line_by_line(\"C:\\\\Users\\\\harsh\\\\OneDrive\\\\Desktop\\\\python.txt\" )\n"
   ]
  },
  {
   "cell_type": "code",
   "execution_count": 5,
   "id": "012d1f96-21d7-4b4e-be8a-7127bd48a942",
   "metadata": {},
   "outputs": [
    {
     "data": {
      "text/plain": [
       "'These Python quiz questions are designed to help you become more familiar with Python and test your \\n'"
      ]
     },
     "execution_count": 5,
     "metadata": {},
     "output_type": "execute_result"
    }
   ],
   "source": [
    "next(a1)"
   ]
  },
  {
   "cell_type": "code",
   "execution_count": 5,
   "id": "d531c619-5fa2-442e-8fda-a0890f5049ee",
   "metadata": {},
   "outputs": [
    {
     "name": "stdout",
     "output_type": "stream",
     "text": [
      "These Python quiz questions are designed to help you become more familiar with Python and test your \n",
      "\n",
      "knowledge across various topics. From Python basics to advanced concepts, these topic-specific \n",
      "\n",
      "quizzes offer a comprehensive way to practice and assess \n",
      "\n",
      "your understanding of Python concepts.\n",
      "\n",
      "\n",
      "\n"
     ]
    }
   ],
   "source": [
    "for i in a1:\n",
    "    print(i)"
   ]
  },
  {
   "cell_type": "markdown",
   "id": "062c8eee-f847-497f-b04a-d6ddce7a2423",
   "metadata": {},
   "source": [
    "Q8.Use a lambda function in Python to sort a list of tuples based on the second element of each tuple."
   ]
  },
  {
   "cell_type": "code",
   "execution_count": 434,
   "id": "e4a81f88-fcc4-443c-9080-3bd0a94558b9",
   "metadata": {},
   "outputs": [],
   "source": [
    "a = [(1,2),(2,1),(5,2),(8,9),(4,5),(3,2)]"
   ]
  },
  {
   "cell_type": "code",
   "execution_count": 448,
   "id": "1a7f1bf2-89cd-4c2c-9e3d-4cef6b5d7500",
   "metadata": {},
   "outputs": [
    {
     "data": {
      "text/plain": [
       "[(2, 1), (1, 2), (5, 2), (3, 2), (4, 5), (8, 9)]"
      ]
     },
     "execution_count": 448,
     "metadata": {},
     "output_type": "execute_result"
    }
   ],
   "source": [
    "sorted(a,key =lambda x:x[1])"
   ]
  },
  {
   "cell_type": "markdown",
   "id": "898fbb61-ea99-4606-b39f-fb2ec30a2840",
   "metadata": {},
   "source": [
    "Q9.  Write a Python program that uses `map()` to convert a list of temperatures from Celsius to Fahrenheit.\n"
   ]
  },
  {
   "cell_type": "code",
   "execution_count": 451,
   "id": "43671029-82fe-4323-88cf-003b8c0e93d6",
   "metadata": {},
   "outputs": [],
   "source": [
    "celc = [25,57,29,60,44,16]"
   ]
  },
  {
   "cell_type": "code",
   "execution_count": 455,
   "id": "5f21189d-ac1e-4573-a0bb-2eef678cc5ce",
   "metadata": {},
   "outputs": [
    {
     "data": {
      "text/plain": [
       "<map at 0x21300406740>"
      ]
     },
     "execution_count": 455,
     "metadata": {},
     "output_type": "execute_result"
    }
   ],
   "source": [
    "map(lambda x : x*9/5+32,celc)"
   ]
  },
  {
   "cell_type": "code",
   "execution_count": 459,
   "id": "49213bb8-23fb-4180-a9c1-9a76a72c6e13",
   "metadata": {},
   "outputs": [
    {
     "data": {
      "text/plain": [
       "[77.0, 134.6, 84.2, 140.0, 111.2, 60.8]"
      ]
     },
     "execution_count": 459,
     "metadata": {},
     "output_type": "execute_result"
    }
   ],
   "source": [
    "list(map(lambda x : (x*9/5)+32,celc))"
   ]
  },
  {
   "cell_type": "markdown",
   "id": "6edae818-c1e4-412e-ba1d-31d8babd90fa",
   "metadata": {},
   "source": [
    " Q10. Create a Python program that uses `filter()` to remove all the vowels from a given string"
   ]
  },
  {
   "cell_type": "code",
   "execution_count": 7,
   "id": "299399a3-0db3-49a7-9270-0735234fd991",
   "metadata": {},
   "outputs": [],
   "source": [
    "a = \"mynameisharsh\""
   ]
  },
  {
   "cell_type": "code",
   "execution_count": 9,
   "id": "9ba81486-d4f1-49b7-8f0a-9e4d4e2d155f",
   "metadata": {},
   "outputs": [
    {
     "data": {
      "text/plain": [
       "<filter at 0x1cab6baa980>"
      ]
     },
     "execution_count": 9,
     "metadata": {},
     "output_type": "execute_result"
    }
   ],
   "source": [
    "filter(lambda x : x not in \"AEIOUaeiou\",a)"
   ]
  },
  {
   "cell_type": "code",
   "execution_count": 11,
   "id": "13ea1c6b-fbd6-465b-8dbd-dcf5da1033a1",
   "metadata": {},
   "outputs": [],
   "source": [
    "a= list(filter(lambda x : x not in \"AEIOUaeiou\",a))"
   ]
  },
  {
   "cell_type": "code",
   "execution_count": 13,
   "id": "1083980a-b856-40d9-a648-d409da4eb53c",
   "metadata": {},
   "outputs": [
    {
     "data": {
      "text/plain": [
       "['m', 'y', 'n', 'm', 's', 'h', 'r', 's', 'h']"
      ]
     },
     "execution_count": 13,
     "metadata": {},
     "output_type": "execute_result"
    }
   ],
   "source": [
    "a"
   ]
  },
  {
   "cell_type": "code",
   "execution_count": null,
   "id": "828468b5-c3e5-484d-b28a-91ab86036b16",
   "metadata": {},
   "outputs": [],
   "source": []
  },
  {
   "cell_type": "markdown",
   "id": "e295c690-cd1d-4c66-bd6a-945a6b0b0179",
   "metadata": {},
   "source": [
    "Q11.    Write a Python program, which returns a list with 2-tuples. Each tuple consists of the order number and  the \n",
    "        product of the price per item and the quantity. The product should be increased by 10,- € if the value of the \n",
    "        order is smaller than 100,00 €.\n",
    "        Write a Python program using lambda and map"
   ]
  },
  {
   "cell_type": "code",
   "execution_count": 285,
   "id": "3d528c11-f574-4759-a0e6-dc3b50335659",
   "metadata": {},
   "outputs": [
    {
     "data": {
      "text/plain": [
       "[[34587, 4, 40.95], [98762, 5, 56.8], [77226, 3, 32.95], [88112, 3, 24.99]]"
      ]
     },
     "execution_count": 285,
     "metadata": {},
     "output_type": "execute_result"
    }
   ],
   "source": [
    "orders"
   ]
  },
  {
   "cell_type": "code",
   "execution_count": 372,
   "id": "177cbe1f-2487-44c2-9b13-d2f380a22a9c",
   "metadata": {},
   "outputs": [],
   "source": [
    "a = lambda x: (x[0], round(x[1]*x[2] + 10 if x[1]*x[2] < 100 else x[1] * x[2],2))"
   ]
  },
  {
   "cell_type": "code",
   "execution_count": null,
   "id": "41c33729-6a00-4bb2-b72a-cf11de38ec8f",
   "metadata": {},
   "outputs": [],
   "source": []
  },
  {
   "cell_type": "code",
   "execution_count": 378,
   "id": "b571f7fa-243d-49b4-ad73-fc2a15e16f0a",
   "metadata": {},
   "outputs": [],
   "source": [
    "a1= list(map(a,orders))"
   ]
  },
  {
   "cell_type": "code",
   "execution_count": 380,
   "id": "35facdb9-6d69-4365-9315-5d894aedad2a",
   "metadata": {},
   "outputs": [
    {
     "name": "stdout",
     "output_type": "stream",
     "text": [
      "[(34587, 163.8), (98762, 284.0), (77226, 108.85), (88112, 84.97)]\n"
     ]
    }
   ],
   "source": [
    "print(a1)"
   ]
  },
  {
   "cell_type": "code",
   "execution_count": null,
   "id": "3f2864c2-f7d4-4b4b-82d7-38a7b843d7b8",
   "metadata": {},
   "outputs": [],
   "source": []
  }
 ],
 "metadata": {
  "kernelspec": {
   "display_name": "Python [conda env:base] *",
   "language": "python",
   "name": "conda-base-py"
  },
  "language_info": {
   "codemirror_mode": {
    "name": "ipython",
    "version": 3
   },
   "file_extension": ".py",
   "mimetype": "text/x-python",
   "name": "python",
   "nbconvert_exporter": "python",
   "pygments_lexer": "ipython3",
   "version": "3.12.7"
  }
 },
 "nbformat": 4,
 "nbformat_minor": 5
}
